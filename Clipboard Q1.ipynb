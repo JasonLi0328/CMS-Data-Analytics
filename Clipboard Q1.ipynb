{
 "cells": [
  {
   "cell_type": "code",
   "execution_count": 1,
   "id": "99867365",
   "metadata": {},
   "outputs": [],
   "source": [
    "import pandas as pd"
   ]
  },
  {
   "cell_type": "code",
   "execution_count": 24,
   "id": "5c79774b",
   "metadata": {
    "scrolled": true
   },
   "outputs": [
    {
     "name": "stderr",
     "output_type": "stream",
     "text": [
      "C:\\Users\\17667\\AppData\\Local\\Temp\\ipykernel_1796\\38420987.py:2: DtypeWarning: Columns (0) have mixed types. Specify dtype option on import or set low_memory=False.\n",
      "  hours = pd.read_csv('PBJ_Daily_Nurse_Staffing_Q1_2024.csv',encoding='cp1252')\n"
     ]
    }
   ],
   "source": [
    "## Import data \n",
    "hours = pd.read_csv('PBJ_Daily_Nurse_Staffing_Q1_2024.csv',encoding='cp1252')\n",
    "provider = pd.read_csv('NH_ProviderInfo_Aug2024.csv',encoding='cp1252')\n",
    "\n",
    "## Format data\n",
    "hours['WorkDate'] = pd.to_datetime(hours['WorkDate'],format='%Y%m%d')\n",
    "hours.rename(columns={'ï»¿PROVNUM': 'Provider Number','PROVNAME':'Provider Name'}, inplace=True)\n",
    "provider.rename(columns={'CMS Certification Number (CCN)':'Provider Number'},inplace = True)"
   ]
  },
  {
   "cell_type": "code",
   "execution_count": 29,
   "id": "dab287ff",
   "metadata": {},
   "outputs": [],
   "source": [
    "## Add column to calculate daily total hours and contract hours\n",
    "df = hours\n",
    "df['Daily_total_contract_hours'] = (df['Hrs_RNDON_ctr'] + df['Hrs_RNadmin_ctr'] + df['Hrs_RN_ctr'] +\n",
    "                              df['Hrs_LPNadmin_ctr'] + df['Hrs_LPN_ctr'] + df['Hrs_CNA_ctr'] +\n",
    "                              df['Hrs_NAtrn_ctr'] + df['Hrs_MedAide_ctr'])\n",
    "\n",
    "df['Daily_total_hours'] = (df['Hrs_RNDON'] + df['Hrs_RNadmin'] + df['Hrs_RN'] +\n",
    "                     df['Hrs_LPNadmin'] + df['Hrs_LPN'] + df['Hrs_CNA'] +\n",
    "                     df['Hrs_NAtrn'] + df['Hrs_MedAide'])\n",
    "\n",
    "## Group by facility name\n",
    "df1 = df.groupby('Provider Number')[['Daily_total_hours','Daily_total_contract_hours']].mean()\n",
    "\n",
    "# Calculate the contract hour percentage\n",
    "df1['ctr_pct'] = df1['Daily_total_contract_hours']/df1['Daily_total_hours']*100\n",
    "df1['ctr_pct'].sort_values(ascending=False).head(10)\n",
    "\n",
    "# Merge df1 with provider information\n",
    "data = pd.merge(df1,provider,on='Provider Number')\n",
    "\n",
    "# Add three identification factors\n",
    "# Contract hour percentile, the lowering meaning less contract percentage\n",
    "data['ctr_%ile'] = round(data['ctr_pct'].rank(pct=True),1)*10\n",
    "\n",
    "# Bed utilization rate\n",
    "data['bed_utl_rate'] = data['Average Number of Residents per Day']/data['Number of Certified Beds']\n",
    "data['bed_utl_%ile'] = round(data['bed_utl_rate'].rank(pct=True),1)*10\n",
    "\n",
    "# Differentiate the size of hospitals\n",
    "data['hospital_size'] = round(data['Number of Certified Beds'].rank(pct=True),1)*10\n"
   ]
  },
  {
   "cell_type": "code",
   "execution_count": 32,
   "id": "56adddc3",
   "metadata": {},
   "outputs": [],
   "source": [
    "# Export data to excel\n",
    "data.to_excel('2024Q1.xlsx')"
   ]
  }
 ],
 "metadata": {
  "kernelspec": {
   "display_name": "Python 3 (ipykernel)",
   "language": "python",
   "name": "python3"
  },
  "language_info": {
   "codemirror_mode": {
    "name": "ipython",
    "version": 3
   },
   "file_extension": ".py",
   "mimetype": "text/x-python",
   "name": "python",
   "nbconvert_exporter": "python",
   "pygments_lexer": "ipython3",
   "version": "3.10.7"
  }
 },
 "nbformat": 4,
 "nbformat_minor": 5
}
